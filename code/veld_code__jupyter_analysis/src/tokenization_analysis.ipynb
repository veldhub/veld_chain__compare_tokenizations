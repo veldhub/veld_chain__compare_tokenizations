{
 "cells": [
  {
   "cell_type": "code",
   "execution_count": 1,
   "id": "acd91f97-07a2-4cdd-9f67-952c796f5312",
   "metadata": {},
   "outputs": [
    {
     "name": "stdout",
     "output_type": "stream",
     "text": [
      "DEU100.ann.json  DEU100.conllu\tDEU100.txt\n",
      "DEU100.ann.xml\t DEU100.json\tDEU100.xml\n"
     ]
    }
   ],
   "source": [
    "!ls /veld/input/xmlanntools/"
   ]
  },
  {
   "cell_type": "code",
   "execution_count": 2,
   "id": "0ee3e6f9-b08a-43bc-8b8d-0448289602ff",
   "metadata": {},
   "outputs": [
    {
     "name": "stdout",
     "output_type": "stream",
     "text": [
      "DEU100.xml  DEU100_tokenized.xml  DEU100_tokenized_parsed.xml\n"
     ]
    }
   ],
   "source": [
    "!ls /veld/input/teitok/"
   ]
  },
  {
   "cell_type": "code",
   "execution_count": null,
   "id": "e99ff87d-06e8-45ee-a932-2944fed04766",
   "metadata": {},
   "outputs": [],
   "source": []
  }
 ],
 "metadata": {
  "kernelspec": {
   "display_name": "Python 3 (ipykernel)",
   "language": "python",
   "name": "python3"
  },
  "language_info": {
   "codemirror_mode": {
    "name": "ipython",
    "version": 3
   },
   "file_extension": ".py",
   "mimetype": "text/x-python",
   "name": "python",
   "nbconvert_exporter": "python",
   "pygments_lexer": "ipython3",
   "version": "3.10.12"
  }
 },
 "nbformat": 4,
 "nbformat_minor": 5
}
